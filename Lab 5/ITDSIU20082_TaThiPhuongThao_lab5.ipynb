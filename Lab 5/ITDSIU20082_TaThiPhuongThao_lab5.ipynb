{
  "cells": [
    {
      "cell_type": "markdown",
      "metadata": {
        "id": "TL5y5fY9Jy_x"
      },
      "source": [
        "# Lab 5: Neural networks\n",
        "\n",
        "In this lab we will build dense neural networks on the MNIST dataset.\n",
        "\n",
        "Make sure you read the tutorial for this lab first."
      ]
    },
    {
      "cell_type": "markdown",
      "metadata": {
        "id": "MHqQ2Tf5cLEG"
      },
      "source": [
        "## Load the data and create train-test splits"
      ]
    },
    {
      "cell_type": "code",
      "execution_count": null,
      "metadata": {
        "id": "fZC9nIVecLEG"
      },
      "outputs": [],
      "source": [
        "!pip install openml\n",
        "%matplotlib inline\n",
        "import numpy as np\n",
        "import pandas as pd\n",
        "import openml as oml\n",
        "import os\n",
        "import matplotlib.pyplot as plt\n",
        "import tensorflow.keras as keras\n",
        "\n"
      ]
    },
    {
      "cell_type": "code",
      "source": [
        "os.environ['TF_CPP_MIN_LOG_LEVEL'] = \"2\""
      ],
      "metadata": {
        "id": "jMSgcTZWXKS1"
      },
      "execution_count": null,
      "outputs": []
    },
    {
      "cell_type": "code",
      "execution_count": null,
      "metadata": {
        "id": "yDrlDikncLEI"
      },
      "outputs": [],
      "source": [
        "# Download MNIST data. Takes a while the first time.\n",
        "mnist = oml.datasets.get_dataset(554)\n",
        "X, y, _, _ = mnist.get_data(target=mnist.default_target_attribute, dataset_format='array');\n",
        "X = X.reshape(70000, 28, 28)\n",
        "\n",
        "# Take some random examples\n",
        "from random import randint\n",
        "fig, axes = plt.subplots(1, 5,  figsize=(10, 5))\n",
        "for i in range(5):\n",
        "    n = randint(0,70000)\n",
        "    axes[i].imshow(X[n], cmap=plt.cm.gray_r)\n",
        "    axes[i].set_xticks([])\n",
        "    axes[i].set_yticks([])\n",
        "    axes[i].set_xlabel(\"{}\".format(y[n]))\n",
        "plt.show();"
      ]
    },
    {
      "cell_type": "code",
      "execution_count": null,
      "metadata": {
        "id": "JZlvdpyYKx7V"
      },
      "outputs": [],
      "source": [
        "# For MNIST, there exists a predefined stratified train-test split of 60000-10000. We therefore don't shuffle or stratify here.\n",
        "from sklearn.model_selection import train_test_split\n",
        "X_train, X_test, y_train, y_test = train_test_split(X, y, stratify=y,\n",
        "                                                        random_state=42)"
      ]
    },
    {
      "cell_type": "markdown",
      "metadata": {
        "id": "8ldP-5z1B2vL"
      },
      "source": [
        "## Exercise 1: Preprocessing\n",
        "* Normalize the data: map each feature value from its current representation (an integer between 0 and 255) to a floating-point value between 0 and 1.0.\n",
        "* Store the floating-point values in `x_train_normalized` and `x_test_normalized`.\n",
        "* Map the class label to a on-hot-encoded value. Store in `y_train_encoded` and `y_test_encoded`."
      ]
    },
    {
      "cell_type": "code",
      "source": [
        "# prompt: Normalize the data: map each feature value from its current representation (an integer between 0 and 255) to a floating-point value between 0 and 1.0.\n",
        "\n",
        "x_train_normalized = X_train / 255.0\n",
        "x_test_normalized = X_test / 255.0\n"
      ],
      "metadata": {
        "id": "x8qnOtEPYExp"
      },
      "execution_count": null,
      "outputs": []
    },
    {
      "cell_type": "code",
      "execution_count": null,
      "metadata": {
        "cellView": "form",
        "id": "g8HC-TDgB1D1"
      },
      "outputs": [],
      "source": [
        "\n",
        "\n",
        "from tensorflow.keras.utils import to_categorical\n",
        "y_train_encoded = to_categorical(y_train)\n",
        "y_test_encoded = to_categorical(y_test)"
      ]
    },
    {
      "cell_type": "markdown",
      "metadata": {
        "id": "3014ezH3C7jT"
      },
      "source": [
        "## Exercise 2: Create a deep neural net model\n",
        "\n",
        "Implement a `create_model` function which defines the topography of the deep neural net, specifying the following:\n",
        "\n",
        "* The number of layers in the deep neural net: Use 2 dense layers for now.\n",
        "* The number of nodes in each layer: these are parameters of your function.\n",
        "* Any regularization layers. Add at least one dropout layer.\n",
        "* The optimizer and learning rate. Make the learning rate a parameter of your function as well.\n",
        "\n",
        "Consider:\n",
        "* What should be the shape of the input layer?\n",
        "* Which activation function you will need for the last layer, since this is a 10-class classification problem?"
      ]
    },
    {
      "cell_type": "code",
      "source": [
        "# prompt: ### Create and compile a 'deep' neural net\n",
        "# def create_model(layer_1_units=32, layer_2_units=10, learning_rate=0.001, dropout_rate=0.3): with hidden layer\n",
        "\n",
        "def create_model(layer_1_units=32, layer_2_units=10, learning_rate=0.001, dropout_rate=0.3):\n",
        "  model = keras.Sequential()\n",
        "  model.add(keras.layers.Flatten(input_shape=[28, 28]))\n",
        "  model.add(keras.layers.Dense(layer_1_units, activation='relu'))\n",
        "  model.add(keras.layers.Dropout(dropout_rate))\n",
        "  model.add(keras.layers.Dense(layer_2_units, activation='softmax'))\n",
        "  optimizer = keras.optimizers.Adam(learning_rate=learning_rate)\n",
        "  model.compile(optimizer=optimizer,\n",
        "                loss='categorical_crossentropy',\n",
        "                metrics=['accuracy'])\n",
        "  return model\n"
      ],
      "metadata": {
        "id": "IDiWlf9hbbbb"
      },
      "execution_count": null,
      "outputs": []
    },
    {
      "cell_type": "markdown",
      "metadata": {
        "id": "S8HMYhVgcLEK"
      },
      "source": [
        "## Exercise 3: Create a training function\n",
        "Implement a `train_model` function which trains and evaluates a given model.\n",
        "It should do a train-validation split and report the train and validation loss and accuracy, and return the training history."
      ]
    },
    {
      "cell_type": "code",
      "source": [
        "# prompt: Implement a train_model function which trains and evaluates a given model. It should do a train-validation split and report the train and validation loss and accuracy, and return the training history.\n",
        "\n",
        "def train_model(model,x,y, epochs=10, batch_size=100, validation_split=0.2):\n",
        "  history = model.fit(x, y, epochs=epochs,\n",
        "                    batch_size=batch_size, validation_split=validation_split)\n",
        "  return history\n",
        "\n",
        "# ## Exercise 4: Train the model\n",
        "# Use your `create_model` and `train_model` functions to train the model.\n",
        "#\n",
        "# * Create a model with the following parameters:\n",
        "#     * 2 layers\n",
        "#     * 32 units in the first layer\n",
        "#     * 10 units in the second layer\n",
        "#     * 0.3 dropout rate\n",
        "#     * 0.001 learning rate\n",
        "# * Train the model for 10 epochs with a batch size of 100 and a validation split of 0.2.\n",
        "# * Store the returned training history in `history`.\n",
        "model = create_model()\n",
        "history = train_model(model,x_train_normalized,y_train_encoded)\n",
        "\n",
        "# ## Exercise 5: Evaluate the model\n",
        "# Evaluate the model on the test set using the `model.evaluate` method.\n",
        "model.evaluate(x_test_normalized, y_test_encoded)\n"
      ],
      "metadata": {
        "id": "d--OBV4Tdlca"
      },
      "execution_count": null,
      "outputs": []
    },
    {
      "cell_type": "markdown",
      "metadata": {
        "id": "D-IXYVfvM4gD"
      },
      "source": [
        "## Exercise 4: Evaluate the model\n",
        "\n",
        "Train the model with a learning rate of 0.003, 50 epochs, batch size 4000, and a validation set that is 20% of the total training data.\n",
        "Use default settings otherwise. Plot the learning curve of the loss, validation loss, accuracy, and validation accuracy. Finally, report the performance on the test set.\n",
        "\n",
        "Feel free to use the plotting function below, or implement the callback from the tutorial to see results in real time."
      ]
    },
    {
      "cell_type": "code",
      "execution_count": null,
      "metadata": {
        "cellView": "form",
        "id": "QF0BFRXTOeR3"
      },
      "outputs": [],
      "source": [
        "# Helper plotting function\n",
        "#\n",
        "# history: the history object returned by the fit function\n",
        "# list_of_metrics: the metrics to plot\n",
        "def plot_curve(history, list_of_metrics):\n",
        "\n",
        "    plt.figure()\n",
        "    plt.xlabel(\"Epoch\")\n",
        "    plt.ylabel(\"Value\")\n",
        "\n",
        "    epochs = history.epoch\n",
        "    hist = pd.DataFrame(history.history)\n",
        "\n",
        "    for m in list_of_metrics:\n",
        "      if m in hist.columns:\n",
        "        x = hist[m]\n",
        "        plt.plot(epochs[1:], x[1:], label=m, lw=2)\n",
        "\n",
        "    plt.legend()"
      ]
    },
    {
      "cell_type": "code",
      "execution_count": null,
      "metadata": {
        "cellView": "both",
        "id": "nj3v5EKQFY8s"
      },
      "outputs": [],
      "source": [
        "# Solution\n",
        "# Settings\n",
        "\n",
        "\n",
        "# Create the model the model's topography.\n",
        "model = create_model(learning_rate=0.003)\n",
        "\n",
        "train=train_model(model,x_train_normalized,y_train_encoded,epochs=50,batch_size=4000,validation_split=0.2)\n",
        "\n",
        "\n",
        "\n",
        "# Evaluate against the test set.\n",
        "model.evaluate(x_test_normalized, y_test_encoded)"
      ]
    },
    {
      "cell_type": "code",
      "source": [
        "list_of_metrics = ['accuracy','recall','precision', 'f1']\n",
        "plot_curve(train,list_of_metrics=list_of_metrics)"
      ],
      "metadata": {
        "id": "3R-bFJoqhV1X"
      },
      "execution_count": null,
      "outputs": []
    },
    {
      "cell_type": "markdown",
      "metadata": {
        "id": "Y5IKmk7D49_n"
      },
      "source": [
        "## Exercise 5: Optimize the model\n",
        "\n",
        "Try to optimize the model, either manually or with a tuning method. At least optimize the following:\n",
        "* the number of hidden layers\n",
        "* the number of nodes in each layer\n",
        "* the amount of dropout layers and the dropout rate\n",
        "\n",
        "Try to reach at least 96% accuracy against the test set."
      ]
    },
    {
      "cell_type": "code",
      "execution_count": null,
      "metadata": {
        "cellView": "form",
        "id": "wYG5qXpP5a9n"
      },
      "outputs": [],
      "source": [
        "# Solution\n",
        "# For an example with random search, see the tutorial\n",
        "# Here, we search manually, following the following hunches:\n",
        "#   * Adding more nodes to the first hidden layer will improve accuracy. The input size is 784, so we should not make it too small\n",
        "#   * Adding a second hidden layer generally improves accuracy.\n",
        "#   * For larger models (more nodes), we need to regularize more (more dropout)\n",
        "\n",
        "\n",
        "\n",
        "# Create the model the model's topography.\n",
        "model=create_model(layer_1_units=256,dropout_rate=0.7)\n",
        "# Train the model on the normalized training set.\n",
        "train=train_model(model,x_train_normalized,y_train_encoded,epochs=50,batch_size=4000,validation_split=0.2)\n",
        "\n",
        "# Plot a graph of the metric vs. epochs.\n",
        "plot_curve(train,list_of_metrics=list_of_metrics)\n",
        "\n",
        "# Evaluate against the test set.\n",
        "model.evaluate(x_test_normalized, y_test_encoded)"
      ]
    },
    {
      "cell_type": "code",
      "source": [
        "!pip install keras-tuner\n",
        "import keras_tuner as kt\n",
        "\n",
        "def model_builder(hp):\n",
        "  model = keras.Sequential()\n",
        "  model.add(keras.layers.Flatten(input_shape=[28, 28]))\n",
        "  for _ in range(hp.Int('num_layers', 1, 3)):\n",
        "    model.add(keras.layers.Dense(units=hp.Int('units',min_value=32,max_value=265,step=32), activation='relu'))\n",
        "    model.add(keras.layers.Dropout(rate=hp.Float('dropout',0,0.9,step=0.1)))\n",
        "  model.add(keras.layers.Dense(10, activation='softmax'))\n",
        "  learning_rate = hp.Choice('learning_rate', values=[1e-2, 1e-3, 1e-4])\n",
        "  optimizer = keras.optimizers.Adam(learning_rate=learning_rate)\n",
        "  model.compile(optimizer=optimizer,\n",
        "                loss='categorical_crossentropy',\n",
        "                metrics=['accuracy'])\n",
        "  return model\n",
        "\n",
        "tuner = kt.Hyperband(model_builder,\n",
        "                     objective='val_accuracy',\n",
        "                     max_epochs=10,\n",
        "                     directory='my_dir')\n",
        "tuner.search(x_train_normalized, y_train_encoded, epochs=10,\n",
        "              validation_split=0.2, verbose=2)\n",
        "\n",
        "best_model = tuner.get_best_models()[0]\n",
        "best_model.evaluate(x_test_normalized, y_test_encoded)\n"
      ],
      "metadata": {
        "id": "RYM_j3Nqppbz"
      },
      "execution_count": null,
      "outputs": []
    }
  ],
  "metadata": {
    "colab": {
      "private_outputs": true,
      "provenance": []
    },
    "kernelspec": {
      "display_name": "Python 3 (ipykernel)",
      "language": "python",
      "name": "python3"
    },
    "language_info": {
      "codemirror_mode": {
        "name": "ipython",
        "version": 3
      },
      "file_extension": ".py",
      "mimetype": "text/x-python",
      "name": "python",
      "nbconvert_exporter": "python",
      "pygments_lexer": "ipython3",
      "version": "3.9.7"
    }
  },
  "nbformat": 4,
  "nbformat_minor": 0
}